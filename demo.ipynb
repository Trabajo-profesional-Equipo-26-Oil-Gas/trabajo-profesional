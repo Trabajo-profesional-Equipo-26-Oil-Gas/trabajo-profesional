{
 "cells": [
  {
   "cell_type": "code",
   "execution_count": null,
   "id": "432ced29-47fe-4c1a-9e39-998ac404a872",
   "metadata": {
    "executionInfo": {
     "elapsed": 8,
     "status": "ok",
     "timestamp": 1722209765146,
     "user": {
      "displayName": "Maximiliano Burastero",
      "userId": "00370891572832178829"
     },
     "user_tz": 180
    },
    "id": "432ced29-47fe-4c1a-9e39-998ac404a872"
   },
   "outputs": [],
   "source": [
    "import math\n",
    "import itertools\n",
    "from datetime import datetime\n",
    "import pandas as pd\n",
    "import numpy as np\n",
    "from prophet import Prophet\n",
    "from prophet.diagnostics import cross_validation, performance_metrics\n",
    "from prophet.plot import plot_forecast_component\n",
    "from prophet.serialize import model_to_json, model_from_json\n",
    "import matplotlib.pyplot as plt\n",
    "import seaborn as sns\n",
    "from sklearn.metrics import mean_absolute_error, mean_absolute_percentage_error, mean_squared_error, r2_score\n",
    "import logging\n",
    "import json\n",
    "pd.set_option('display.max_columns', None)\n",
    "\n",
    "IN_COLAB = 'google.colab' in str(get_ipython()) if hasattr(__builtins__,'__IPYTHON__') else False\n",
    "\n",
    "SAVE_FIGURES = False\n",
    "\n",
    "if IN_COLAB:\n",
    "    from google.colab import drive\n",
    "    drive.mount('/content/drive', force_remount=True)\n",
    "    CODE_PATH = '/content/drive/MyDrive/Trabajo profesional/Code/' # absolute path\n",
    "else:\n",
    "    CODE_PATH = '' # relative path\n",
    "\n",
    "wells_ids_to_predict = [160211, 160332, 160789, 160810, 160814, 161451, 162200, 162405, 162955, 163237]"
   ]
  },
  {
   "cell_type": "markdown",
   "id": "I9ndYYtcmYy7",
   "metadata": {
    "id": "I9ndYYtcmYy7"
   },
   "source": [
    "## Carga de datos"
   ]
  },
  {
   "cell_type": "code",
   "execution_count": null,
   "id": "246f9846-10b7-43c8-bcda-53557701eb94",
   "metadata": {
    "executionInfo": {
     "elapsed": 2515,
     "status": "ok",
     "timestamp": 1722209774956,
     "user": {
      "displayName": "Maximiliano Burastero",
      "userId": "00370891572832178829"
     },
     "user_tz": 180
    },
    "id": "246f9846-10b7-43c8-bcda-53557701eb94"
   },
   "outputs": [],
   "source": [
    "dataset_train = pd.read_csv(CODE_PATH + \"data/prod_split_train_2024-05-28_15:05:17.csv\", index_col=0, low_memory=False)\n",
    "dataset_train[\"fecha\"] = pd.to_datetime(dataset_train[\"fecha\"])\n",
    "# dataset_train.info()\n",
    "\n",
    "dataset_test = pd.read_csv(CODE_PATH + \"data/prod_split_test_2024-05-28_15:05:17.csv\", index_col=0, low_memory=False)\n",
    "dataset_test[\"fecha\"] = pd.to_datetime(dataset_test[\"fecha\"])\n",
    "# dataset_test.info()\n",
    "\n",
    "def load_algorithm_predictions(algo_name, file_name):\n",
    "    dataset_algorithm = pd.read_csv(file_name, index_col=0, low_memory=False)\n",
    "    dataset_algorithm[\"fecha\"] = pd.to_datetime(dataset_algorithm[\"fecha\"])\n",
    "    dataset_algorithm.sort_values(by=['fecha', 'idpozo'], inplace=True)\n",
    "    dataset_algorithm.reset_index(drop=True, inplace=True)\n",
    "    return dataset_algorithm"
   ]
  },
  {
   "cell_type": "markdown",
   "id": "0TiomGs0mkJY",
   "metadata": {
    "id": "0TiomGs0mkJY"
   },
   "source": [
    "### Carga de las predicciones de los distintos algoritmos"
   ]
  },
  {
   "cell_type": "code",
   "execution_count": null,
   "id": "9c442189-08ad-4499-99db-369fb3dd4f2e",
   "metadata": {
    "executionInfo": {
     "elapsed": 93,
     "status": "ok",
     "timestamp": 1722209774962,
     "user": {
      "displayName": "Maximiliano Burastero",
      "userId": "00370891572832178829"
     },
     "user_tz": 180
    },
    "id": "7ef8aa90-f446-4e69-b273-3e43dae668b5"
   },
   "outputs": [],
   "source": [
    "predictions_metadata = [\n",
    "  [\"GRU\", \"GRU\", \"gru_2024-06-16_22:34:41.csv\"],\n",
    "  [\"GRU\", \"GRU filtro por área\", \"gru_agrupation_2024-06-16_22:43:56.csv\"],\n",
    "  [\"Prophet\", \"Prophet\", \"prophet_single_2024-06-07_01:19:42.csv\"],\n",
    "  [\"Prophet\", \"Prophet agregación total\", \"prophet_single_with_aggregate_2024-06-09_17:57:46.csv\"],\n",
    "  [\"Prophet\", \"Prophet agregación por área\", \"prophet_single_with_area_aggregate_2024-06-11_03:49:54.csv\"],\n",
    "  [\"ARIMA\", \"ARIMA\", \"arima_single.csv\"],\n",
    "  [\"ARIMA\", \"ARIMA agregación total\", \"arima_total_mean.csv\"],\n",
    "  [\"ARIMA\", \"ARIMA agregación por área\", \"arima_area_mean.csv\"],\n",
    "  [\"LSTM\", \"LSTM - MSE 100 evals\", \"predictions_MSE_100_trials.csv\"],\n",
    "  [\"LSTM\", \"LSTM agregación por área - MSE 100 evals\", \"LSTM_predictions_agregacion_MSE_100_trials.csv\"],\n",
    "  [\"LSTM\", \"LSTM agregación total - MSE 50 evals\", \"predictions_agregacion_todos_los_pozos_MSE_50_trials.csv\"],\n",
    "]\n",
    "\n",
    "dataset_algorithms = {}\n",
    "\n",
    "for i in predictions_metadata:\n",
    "  algo_type = i[0]\n",
    "  algo_name = i[1]\n",
    "  file_name = i[2]\n",
    "  if algo_type not in dataset_algorithms:\n",
    "    dataset_algorithms[algo_type] = {}\n",
    "  dataset_algorithms[algo_type][algo_name] = load_algorithm_predictions(algo_name, CODE_PATH + \"data/predictions/\" + file_name)\n",
    "  # print(algo_name)\n",
    "  # print(dataset_algorithms[algo_type][algo_name].info())"
   ]
  },
  {
   "cell_type": "markdown",
   "id": "8a49e995-bf00-4961-8fb0-b53f496e8e04",
   "metadata": {},
   "source": [
    "## Definición de funciones"
   ]
  },
  {
   "cell_type": "code",
   "execution_count": null,
   "id": "469b7778-4f40-4d75-9f66-1faa2a09aeb8",
   "metadata": {
    "executionInfo": {
     "elapsed": 96,
     "status": "ok",
     "timestamp": 1722209774969,
     "user": {
      "displayName": "Maximiliano Burastero",
      "userId": "00370891572832178829"
     },
     "user_tz": 180
    },
    "id": "469b7778-4f40-4d75-9f66-1faa2a09aeb8"
   },
   "outputs": [],
   "source": [
    "def filter_by_well_id(df, well_id):\n",
    "    well_data = df[df[\"idpozo\"] == well_id].copy()\n",
    "    well_data.sort_values(by=[\"fecha\"], inplace=True)\n",
    "    return well_data\n",
    "\n",
    "def filter_by_wells_ids(df, wells_ids):\n",
    "    wells_data = df[df[\"idpozo\"].isin(wells_ids)].copy()\n",
    "    wells_data.sort_values(by=['fecha', 'idpozo'], inplace=True)\n",
    "    wells_data.reset_index(drop=True, inplace=True)\n",
    "    return wells_data\n",
    "\n",
    "def concat_train_and_test(train_df, test_df):\n",
    "    total = pd.concat([train_df, test_df])\n",
    "    total.sort_values(by=[\"fecha\"], inplace=True)\n",
    "    return total\n",
    "\n",
    "def plot_prod_pet_of_well(well_id, well_data_train, well_data_test_real, well_data_test_algorithms):\n",
    "    well_data_total_real = concat_train_and_test(well_data_train, well_data_test_real)\n",
    "    well_data_total_algorithms = {}\n",
    "    for algo_name in well_data_test_algorithms.keys():\n",
    "        well_data_total_algorithms[algo_name] = concat_train_and_test(well_data_train, well_data_test_algorithms[algo_name])\n",
    "\n",
    "    fig, ax = plt.subplots(nrows=1, ncols=1)\n",
    "\n",
    "    plt.title(f\"Comparación de las predicciones de producción de petroleo para el pozo {well_id}\")\n",
    "\n",
    "    ax = well_data_total_real.plot(ax=ax, x=\"fecha\", y=\"prod_pet\", label='Real', zorder=5)\n",
    "    for algo_name in well_data_total_algorithms.keys():\n",
    "        ax = well_data_total_algorithms[algo_name].plot(ax=ax, x=\"fecha\", y=\"prod_pet\", label=algo_name, zorder=1)\n",
    "\n",
    "    plt.show()\n",
    "\n",
    "def check_structure(wells_data_test_real, wells_data_test_algorithm):\n",
    "  if len(wells_data_test_real) != len(wells_data_test_algorithm):\n",
    "    raise Exception(\"Las cantidades son diferentes\")\n",
    "  if not wells_data_test_real['fecha'].equals(wells_data_test_algorithm['fecha']):\n",
    "    raise Exception(\"No coinciden exactamente las fechas a comparar\")\n",
    "  if not wells_data_test_real['idpozo'].equals(wells_data_test_algorithm['idpozo']):\n",
    "    raise Exception(\"No coinciden exactamente los pozos a comparar\")\n",
    "\n",
    "def evaluate_errors(y_true, y_pred):\n",
    "  return {'MAE': mean_absolute_error(y_true, y_pred),\n",
    "          'MSE': mean_squared_error(y_true, y_pred),\n",
    "          'RMSE': np.sqrt(mean_squared_error(y_true, y_pred)),\n",
    "          'MAPE': mean_absolute_percentage_error(y_true, y_pred)}\n",
    "\n",
    "def print_errors(algo_name, errors_dict):\n",
    "  text = '\\n' + algo_name + '\\n'\n",
    "  for key in errors_dict.keys():\n",
    "    text += key + ': ' + str(errors_dict[key]) + ', '\n",
    "  print(text)\n",
    "\n",
    "\n",
    "# Funciones de calculo de errores\n",
    "\n",
    "def get_df_predictions_by_algorithm(df_test, df_algorithm):\n",
    "  # Se filtra por las dudas de que no se tomen todos los pozos para comparar\n",
    "  wells_data_algo = filter_by_wells_ids(df_algorithm, wells_ids_to_predict)\n",
    "  # Se filtra por las dudas de que para ese modelo no haya resultados para todos los pozos\n",
    "  wells_ids_predicted = np.unique(wells_data_algo['idpozo'].values).tolist()\n",
    "  wells_data_test_real_filtered_by_wells_ids_predicted = filter_by_wells_ids(df_test, wells_ids_predicted)\n",
    "  check_structure(wells_data_test_real_filtered_by_wells_ids_predicted, wells_data_algo)\n",
    "\n",
    "  df_predictions = pd.DataFrame()\n",
    "  df_predictions[['idpozo', 'fecha', 'prod_pet_predicted']] = wells_data_algo[['idpozo', 'fecha', 'prod_pet']]\n",
    "  df_predictions['prod_pet_real'] = wells_data_test_real_filtered_by_wells_ids_predicted['prod_pet']\n",
    "  df_predictions['error'] = df_predictions['prod_pet_real'] - df_predictions['prod_pet_predicted']\n",
    "  return df_predictions\n",
    "\n",
    "def get_df_errors(df_algorithms):\n",
    "  wells_data_test_real = filter_by_wells_ids(dataset_test, wells_ids_to_predict)\n",
    "\n",
    "  algo_names = []\n",
    "  maes = []\n",
    "  rmses = []\n",
    "\n",
    "  for algo_name in df_algorithms.keys():\n",
    "    df_algo_predictions = get_df_predictions_by_algorithm(wells_data_test_real, df_algorithms[algo_name])\n",
    "    errors = evaluate_errors(df_algo_predictions['prod_pet_real'], df_algo_predictions['prod_pet_predicted'])\n",
    "    algo_names.append(algo_name)\n",
    "    maes.append(errors['MAE'])\n",
    "    #rmses.append(errors['RMSE'])\n",
    "\n",
    "  df_errors = pd.DataFrame({\n",
    "    'Modelo': algo_names,\n",
    "    'MAE': maes,\n",
    "    #'RMSE': rmses\n",
    "  })\n",
    "  df_errors.sort_values(by=['MAE'], inplace=True)\n",
    "  df_errors.reset_index(drop=True, inplace=True)\n",
    "  return df_errors\n",
    "\n",
    "def plot_errors(df_errors):\n",
    "  # melt dataframe to plot with Seaborn\n",
    "  df_errors_melted = df_errors.melt(id_vars='Modelo', var_name='Métrica', value_name='Valor')\n",
    "\n",
    "  plt.figure()\n",
    "  sns.set_style('whitegrid')\n",
    "  sns.barplot(x='Valor', y='Modelo', hue='Métrica', data=df_errors_melted)\n",
    "  plt.title('Comparación de Métricas de Error')\n",
    "  plt.ylabel('Modelo')\n",
    "  plt.xlabel('Valor del error')\n",
    "  plt.legend(title='Métrica')\n",
    "  plt.show()\n",
    "\n",
    "def plot_residuals(df_algorithms):\n",
    "  wells_data_test_real = filter_by_wells_ids(dataset_test, wells_ids_to_predict)\n",
    "\n",
    "  NUM_COLS = 2\n",
    "  num_rows = math.ceil(len(df_algorithms)/NUM_COLS)\n",
    "  plt.figure(figsize=(14, 5*num_rows))\n",
    "  i = 1\n",
    "\n",
    "  for algo_name in df_algorithms.keys():\n",
    "    df_algo_predictions = get_df_predictions_by_algorithm(wells_data_test_real, df_algorithms[algo_name])\n",
    "\n",
    "    plt.subplot(num_rows, NUM_COLS, i)\n",
    "\n",
    "    plt.scatter(df_algo_predictions['prod_pet_predicted'], df_algo_predictions['error'])\n",
    "    plt.xlabel('Valor estimado')\n",
    "    plt.ylabel('Residual')\n",
    "    plt.title(algo_name)\n",
    "    plt.axhline(y=0, color='r', linestyle='--')\n",
    "\n",
    "    i = i + 1\n",
    "\n",
    "  plt.suptitle('Análisis de Residuales de los Modelos')\n",
    "  plt.show()\n",
    "\n",
    "def plot_boxplot_errors(df_algorithms, orient='v'):\n",
    "  wells_data_test_real = filter_by_wells_ids(dataset_test, wells_ids_to_predict)\n",
    "\n",
    "  errors = {}\n",
    "\n",
    "  for algo_name in df_algorithms.keys():\n",
    "    df_algo_predictions = get_df_predictions_by_algorithm(wells_data_test_real, df_algorithms[algo_name])\n",
    "    errors[algo_name] = abs(df_algo_predictions['error'])\n",
    "\n",
    "  if orient == 'v':\n",
    "    xlabel = 'Modelos'\n",
    "    ylabel = 'Error absoluto'\n",
    "  else:\n",
    "    xlabel = 'Error absoluto'\n",
    "    ylabel = 'Modelos'\n",
    "  plt.figure(figsize=(15, 10))\n",
    "  sns.boxplot(data=errors, orient=orient)\n",
    "  plt.title('Distribución de Errores de los Modelos')\n",
    "  plt.xlabel(xlabel)\n",
    "  plt.ylabel(ylabel)\n",
    "  plt.show()\n",
    "\n",
    "# Grafica los residuales y el boxplot de errores juntos\n",
    "def plot_residuals_and_boxplot_errors(df_algorithms):\n",
    "    wells_data_test_real = filter_by_wells_ids(dataset_test, wells_ids_to_predict)\n",
    "\n",
    "    NUM_COLS = 2\n",
    "    num_rows = 2\n",
    "    fig = plt.figure(figsize=(14, 8))\n",
    "    errors = {}\n",
    "\n",
    "    for i, algo_name in enumerate(df_algorithms.keys()):\n",
    "        df_algo_predictions = get_df_predictions_by_algorithm(wells_data_test_real, df_algorithms[algo_name])\n",
    "        errors[algo_name] = abs(df_algo_predictions['error'])\n",
    "\n",
    "        # Definir la posición de cada gráfico en la figura usando add_axes\n",
    "        width = 1 / NUM_COLS * 0.5\n",
    "        left = (i % NUM_COLS) * width * 1.2\n",
    "        bottom = 1 - (i // NUM_COLS + 1) / num_rows\n",
    "        height = 1 / num_rows * 0.8\n",
    "\n",
    "        ax = fig.add_axes([left, bottom, width, height])\n",
    "        ax.scatter(df_algo_predictions['prod_pet_predicted'], df_algo_predictions['error'])\n",
    "        ax.set_xlabel('Valor estimado')\n",
    "        ax.set_ylabel('Residual')\n",
    "        ax.set_title('Residuales - ' + algo_name)\n",
    "        ax.axhline(y=0, color='r', linestyle='--')\n",
    "\n",
    "    # Añadir un gráfico de boxplot para los errores\n",
    "    ax_boxplot = fig.add_axes([width * 2.5, 0.2, width * 2, 0.6])\n",
    "    sns.boxplot(data=errors, ax=ax_boxplot)\n",
    "    ax_boxplot.set_title('Distribución de Errores de los Modelos')\n",
    "    ax_boxplot.set_xlabel('Modelos')\n",
    "    ax_boxplot.set_ylabel('Error absoluto')\n",
    "\n",
    "    plt.show()\n",
    "\n",
    "# se deja separada porque los graficos se ven mejor asi en PC (notebook)\n",
    "def plot_predictions_comparison_notebook(well_id, df_algorithms, plot_single_models=True):\n",
    "    well_data_total_real = concat_train_and_test(dataset_train, dataset_test)\n",
    "    well_data_total_real = filter_by_well_id(well_data_total_real, well_id)\n",
    "\n",
    "    ##############################\n",
    "\n",
    "    fig, axes = plt.subplots(nrows=1, ncols=2)\n",
    "    fig.set_size_inches(20, 6)\n",
    "\n",
    "    ax = axes[0]\n",
    "    ax.set_title(f\"Predicciones de producción de petróleo. Pozo #{well_id}\")\n",
    "    ax.grid(True, which='both')\n",
    "    well_data_total_real.plot(ax=ax, x=\"fecha\", y=\"prod_pet\", label='Real', zorder=5, ylabel=\"Producción de petróleo en m3\", lw=2)\n",
    "\n",
    "    for algo_name in df_algorithms.keys():\n",
    "        # Se chequea que el modelo tenga predicciones para este pozo\n",
    "        wells_ids_predicted = np.unique(df_algorithms[algo_name]['idpozo'].values).tolist()\n",
    "        if well_id in wells_ids_predicted:\n",
    "            pd.concat([well_data_total_real.tail(4).head(1), filter_by_well_id(df_algorithms[algo_name], well_id)]).plot(ax=ax, x=\"fecha\", y=\"prod_pet\", label=algo_name, zorder=1)\n",
    "\n",
    "    ##############################\n",
    "\n",
    "    ax = axes[1]\n",
    "    ax.set_title(f\"Zoom in\")\n",
    "    ax.grid(True, which='both')\n",
    "    well_data_total_real.tail(9).plot(ax=ax, x=\"fecha\", y=\"prod_pet\", label='Real', zorder=5, ylabel=\"Producción de petróleo en m3\", lw=2)\n",
    "\n",
    "    for algo_name in df_algorithms.keys():\n",
    "        # Se chequea que el modelo tenga predicciones para este pozo\n",
    "        wells_ids_predicted = np.unique(df_algorithms[algo_name]['idpozo'].values).tolist()\n",
    "        if well_id in wells_ids_predicted:\n",
    "            pd.concat([well_data_total_real.tail(4).head(1), filter_by_well_id(df_algorithms[algo_name], well_id)]).plot(ax=ax, x=\"fecha\", y=\"prod_pet\", label=algo_name, zorder=1)\n",
    "\n",
    "    ##############################\n",
    "\n",
    "    if plot_single_models:\n",
    "        NUM_COLS = 3\n",
    "        num_rows = math.ceil(len(df_algorithms)/NUM_COLS)\n",
    "        fig, axes = plt.subplots(nrows=num_rows, ncols=NUM_COLS)\n",
    "        fig.set_size_inches(20, 3*num_rows)\n",
    "        fig.tight_layout(pad=3.0)\n",
    "        axes = axes.ravel()\n",
    "        ax_index = 0\n",
    "    \n",
    "        for algo_name in df_algorithms.keys():\n",
    "          # Se chequea que el modelo tenga predicciones para este pozo\n",
    "          wells_ids_predicted = np.unique(df_algorithms[algo_name]['idpozo'].values).tolist()\n",
    "          if well_id in wells_ids_predicted:\n",
    "            ax = axes[ax_index]\n",
    "            ax.grid(True, which='both')\n",
    "            well_data_total_real.tail(9).plot(ax=ax, x=\"fecha\", y=\"prod_pet\", label='Real', ylabel=\"Producción de petróleo en m3\", zorder=5, lw=2)\n",
    "            pd.concat([well_data_total_real.tail(4).head(1), filter_by_well_id(df_algorithms[algo_name], well_id)]).plot(ax=ax, x=\"fecha\", y=\"prod_pet\", label=algo_name, zorder=1)\n",
    "    \n",
    "            errors = evaluate_errors(well_data_total_real.tail(3)[\"prod_pet\"], filter_by_well_id(df_algorithms[algo_name], well_id)[\"prod_pet\"])\n",
    "    \n",
    "            # Hack with invisible curve containing the extra errors label. This is done to be able to include errors text box with \"best position\" automatically enabled.\n",
    "            well_data_total_real.tail(9).plot(ax=ax, x=\"fecha\", y=\"prod_pet\", style=\" \", label=f\"MAE: {errors['MAE']:.3f}\")\n",
    "    \n",
    "            ax_index += 1\n",
    "\n",
    "            for ax in axes[ax_index:]:\n",
    "              ax.set_axis_off()\n",
    "\n",
    "    plt.show()\n",
    "\n",
    "def plot_predictions_comparison(well_id, df_algorithms, figure_filename_prefix='', plot_single_models=True):\n",
    "    well_data_total_real = concat_train_and_test(dataset_train, dataset_test)\n",
    "    well_data_total_real = filter_by_well_id(well_data_total_real, well_id)\n",
    "\n",
    "    ##############################\n",
    "\n",
    "    fig, axes = plt.subplots(nrows=2, ncols=1)\n",
    "    fig.set_size_inches(10, 12)\n",
    "\n",
    "    ax = axes[0]\n",
    "    ax.set_title(f\"Predicciones de producción de petróleo. Pozo #{well_id}\")\n",
    "    ax.grid(True, which='both')\n",
    "    well_data_total_real.plot(ax=ax, x=\"fecha\", y=\"prod_pet\", label='Real', zorder=5, ylabel=\"Producción de petróleo en m3\", lw=2)\n",
    "\n",
    "    for algo_name in df_algorithms.keys():\n",
    "        # Se chequea que el modelo tenga predicciones para este pozo\n",
    "        wells_ids_predicted = np.unique(df_algorithms[algo_name]['idpozo'].values).tolist()\n",
    "        if well_id in wells_ids_predicted:\n",
    "            pd.concat([well_data_total_real.tail(4).head(1), filter_by_well_id(df_algorithms[algo_name], well_id)]).plot(ax=ax, x=\"fecha\", y=\"prod_pet\", label=algo_name, zorder=1)\n",
    "\n",
    "    ##############################\n",
    "\n",
    "    ax = axes[1]\n",
    "    ax.set_title(f\"Zoom in\")\n",
    "    ax.grid(True, which='both')\n",
    "    well_data_total_real.tail(9).plot(ax=ax, x=\"fecha\", y=\"prod_pet\", label='Real', zorder=5, ylabel=\"Producción de petróleo en m3\", lw=2)\n",
    "\n",
    "    for algo_name in df_algorithms.keys():\n",
    "        # Se chequea que el modelo tenga predicciones para este pozo\n",
    "        wells_ids_predicted = np.unique(df_algorithms[algo_name]['idpozo'].values).tolist()\n",
    "        if well_id in wells_ids_predicted:\n",
    "            pd.concat([well_data_total_real.tail(4).head(1), filter_by_well_id(df_algorithms[algo_name], well_id)]).plot(ax=ax, x=\"fecha\", y=\"prod_pet\", label=algo_name, zorder=1)\n",
    "\n",
    "    fig.tight_layout()\n",
    "    if SAVE_FIGURES:\n",
    "      fig.savefig(CODE_PATH + 'data/figures/' + figure_filename_prefix + '_' + str(well_id) + '.png')\n",
    "\n",
    "    ##############################\n",
    "\n",
    "    if plot_single_models:\n",
    "      NUM_COLS = 2\n",
    "      num_rows = math.ceil(len(df_algorithms)/NUM_COLS)\n",
    "      fig, axes = plt.subplots(nrows=num_rows, ncols=NUM_COLS)\n",
    "      fig.set_size_inches(10, 3*num_rows)\n",
    "      fig.tight_layout(pad=3.0)\n",
    "      axes = axes.ravel()\n",
    "      ax_index = 0\n",
    "\n",
    "      for algo_name in df_algorithms.keys():\n",
    "        # Se chequea que el modelo tenga predicciones para este pozo\n",
    "        wells_ids_predicted = np.unique(df_algorithms[algo_name]['idpozo'].values).tolist()\n",
    "        if well_id in wells_ids_predicted:\n",
    "          ax = axes[ax_index]\n",
    "          ax.grid(True, which='both')\n",
    "          well_data_total_real.tail(9).plot(ax=ax, x=\"fecha\", y=\"prod_pet\", label='Real', ylabel=\"Producción de petróleo en m3\", zorder=5, lw=2)\n",
    "          pd.concat([well_data_total_real.tail(4).head(1), filter_by_well_id(df_algorithms[algo_name], well_id)]).plot(ax=ax, x=\"fecha\", y=\"prod_pet\", label=algo_name, zorder=1)\n",
    "\n",
    "          errors = evaluate_errors(well_data_total_real.tail(3)[\"prod_pet\"], filter_by_well_id(df_algorithms[algo_name], well_id)[\"prod_pet\"])\n",
    "\n",
    "          # Hack with invisible curve containing the extra errors label. This is done to be able to include errors text box with \"best position\" automatically enabled.\n",
    "          well_data_total_real.tail(9).plot(ax=ax, x=\"fecha\", y=\"prod_pet\", style=\" \", label=f\"MAE: {errors['MAE']:.3f}\")\n",
    "\n",
    "          ax_index += 1\n",
    "\n",
    "      for ax in axes[ax_index:]:\n",
    "        ax.set_axis_off()\n",
    "\n",
    "      fig.tight_layout()\n",
    "\n",
    "    if SAVE_FIGURES:\n",
    "      plt.savefig(CODE_PATH + 'data/figures/' + figure_filename_prefix + '_' + str(well_id) + '_separate.png')\n",
    "\n",
    "    plt.show()\n",
    "\n",
    "def show_errors_and_get_best_model(algo_type, df_algorithms):\n",
    "  \"\"\"\n",
    "  Show errors and return the best model.\n",
    "  \"\"\"\n",
    "  df_errors = get_df_errors(df_algorithms)\n",
    "  print(df_errors)\n",
    "  plot_errors(df_errors)\n",
    "  return df_algorithms[df_errors.iloc[0][\"Modelo\"]]\n"
   ]
  },
  {
   "cell_type": "markdown",
   "id": "wIIZd1TcAyeC",
   "metadata": {
    "id": "wIIZd1TcAyeC"
   },
   "source": [
    "# Resultados por modelo"
   ]
  },
  {
   "cell_type": "code",
   "execution_count": null,
   "id": "zCkkVltENOy1",
   "metadata": {
    "executionInfo": {
     "elapsed": 12,
     "status": "ok",
     "timestamp": 1722209775517,
     "user": {
      "displayName": "Maximiliano Burastero",
      "userId": "00370891572832178829"
     },
     "user_tz": 180
    },
    "id": "zCkkVltENOy1"
   },
   "outputs": [],
   "source": [
    "df_best_algorithms = {}"
   ]
  },
  {
   "cell_type": "markdown",
   "id": "pjoAlnsLNNz-",
   "metadata": {
    "id": "pjoAlnsLNNz-"
   },
   "source": [
    "## Resultados en ARIMA"
   ]
  },
  {
   "cell_type": "code",
   "execution_count": null,
   "id": "hIWYkPsABlfG",
   "metadata": {
    "colab": {
     "base_uri": "https://localhost:8080/",
     "height": 541
    },
    "executionInfo": {
     "elapsed": 711,
     "status": "ok",
     "timestamp": 1722209776216,
     "user": {
      "displayName": "Maximiliano Burastero",
      "userId": "00370891572832178829"
     },
     "user_tz": 180
    },
    "id": "hIWYkPsABlfG",
    "outputId": "b9f59756-c9a7-451e-8c42-12f755a1883f"
   },
   "outputs": [],
   "source": [
    "algo_type = \"ARIMA\"\n",
    "df_algorithms = dataset_algorithms[algo_type]\n",
    "df_best_algorithms[algo_type] = show_errors_and_get_best_model(algo_type, df_algorithms)"
   ]
  },
  {
   "cell_type": "code",
   "execution_count": null,
   "id": "NAsgdcsmDrY2",
   "metadata": {
    "colab": {
     "base_uri": "https://localhost:8080/",
     "height": 1000
    },
    "executionInfo": {
     "elapsed": 5826,
     "status": "ok",
     "timestamp": 1722209782015,
     "user": {
      "displayName": "Maximiliano Burastero",
      "userId": "00370891572832178829"
     },
     "user_tz": 180
    },
    "id": "NAsgdcsmDrY2",
    "outputId": "1a012a22-aec0-47b4-8598-4ea1d5605894"
   },
   "outputs": [],
   "source": [
    "# Optional: 162405\n",
    "for well_id in [161451, 162955]:\n",
    "  plot_predictions_comparison_notebook(well_id, df_algorithms, plot_single_models=False)"
   ]
  },
  {
   "cell_type": "code",
   "execution_count": null,
   "id": "uYOwoLU3cWZj",
   "metadata": {
    "executionInfo": {
     "elapsed": 16,
     "status": "ok",
     "timestamp": 1722209782016,
     "user": {
      "displayName": "Maximiliano Burastero",
      "userId": "00370891572832178829"
     },
     "user_tz": 180
    },
    "id": "uYOwoLU3cWZj"
   },
   "outputs": [],
   "source": [
    "# plot_residuals(df_algorithms)"
   ]
  },
  {
   "cell_type": "code",
   "execution_count": null,
   "id": "SwrOJOEVcoIK",
   "metadata": {
    "executionInfo": {
     "elapsed": 15,
     "status": "ok",
     "timestamp": 1722209782016,
     "user": {
      "displayName": "Maximiliano Burastero",
      "userId": "00370891572832178829"
     },
     "user_tz": 180
    },
    "id": "SwrOJOEVcoIK"
   },
   "outputs": [],
   "source": [
    "# plot_boxplot_errors(df_algorithms)"
   ]
  },
  {
   "cell_type": "markdown",
   "id": "HaMUl5-5EDY1",
   "metadata": {
    "id": "HaMUl5-5EDY1"
   },
   "source": [
    "## Resultados en Prophet"
   ]
  },
  {
   "cell_type": "code",
   "execution_count": null,
   "id": "nH2hNaSqENig",
   "metadata": {
    "colab": {
     "base_uri": "https://localhost:8080/",
     "height": 541
    },
    "executionInfo": {
     "elapsed": 15,
     "status": "ok",
     "timestamp": 1722209782017,
     "user": {
      "displayName": "Maximiliano Burastero",
      "userId": "00370891572832178829"
     },
     "user_tz": 180
    },
    "id": "nH2hNaSqENig",
    "outputId": "d41018f3-d092-48f8-ef08-9f950095bd79"
   },
   "outputs": [],
   "source": [
    "algo_type = \"Prophet\"\n",
    "df_algorithms = dataset_algorithms[algo_type]\n",
    "df_best_algorithms[algo_type] = show_errors_and_get_best_model(algo_type, df_algorithms)"
   ]
  },
  {
   "cell_type": "code",
   "execution_count": null,
   "id": "p9adQ5eUEN2d",
   "metadata": {
    "colab": {
     "base_uri": "https://localhost:8080/",
     "height": 1000
    },
    "executionInfo": {
     "elapsed": 4811,
     "status": "ok",
     "timestamp": 1722209786818,
     "user": {
      "displayName": "Maximiliano Burastero",
      "userId": "00370891572832178829"
     },
     "user_tz": 180
    },
    "id": "p9adQ5eUEN2d",
    "outputId": "4261f26f-9b9f-4679-8b05-9ebb1c7aca92"
   },
   "outputs": [],
   "source": [
    "# Optional: 160814\n",
    "for well_id in [160211, 161451]:\n",
    "  plot_predictions_comparison_notebook(well_id, df_algorithms, plot_single_models=False)"
   ]
  },
  {
   "cell_type": "code",
   "execution_count": null,
   "id": "R81kYEfPcb3t",
   "metadata": {
    "executionInfo": {
     "elapsed": 34,
     "status": "ok",
     "timestamp": 1722209786820,
     "user": {
      "displayName": "Maximiliano Burastero",
      "userId": "00370891572832178829"
     },
     "user_tz": 180
    },
    "id": "R81kYEfPcb3t"
   },
   "outputs": [],
   "source": [
    "# plot_residuals(df_algorithms)"
   ]
  },
  {
   "cell_type": "code",
   "execution_count": null,
   "id": "75esHtJAcwLw",
   "metadata": {
    "executionInfo": {
     "elapsed": 30,
     "status": "ok",
     "timestamp": 1722209786821,
     "user": {
      "displayName": "Maximiliano Burastero",
      "userId": "00370891572832178829"
     },
     "user_tz": 180
    },
    "id": "75esHtJAcwLw"
   },
   "outputs": [],
   "source": [
    "# plot_boxplot_errors(df_algorithms)"
   ]
  },
  {
   "cell_type": "markdown",
   "id": "tulONOQaEHzm",
   "metadata": {
    "id": "tulONOQaEHzm"
   },
   "source": [
    "## Resultados en GRU"
   ]
  },
  {
   "cell_type": "code",
   "execution_count": null,
   "id": "pGyuOx1jEP3T",
   "metadata": {
    "colab": {
     "base_uri": "https://localhost:8080/",
     "height": 524
    },
    "executionInfo": {
     "elapsed": 30,
     "status": "ok",
     "timestamp": 1722209786823,
     "user": {
      "displayName": "Maximiliano Burastero",
      "userId": "00370891572832178829"
     },
     "user_tz": 180
    },
    "id": "pGyuOx1jEP3T",
    "outputId": "1a8d13c8-b7e9-44ca-dc62-597e3f15f5b6"
   },
   "outputs": [],
   "source": [
    "algo_type = \"GRU\"\n",
    "df_algorithms = dataset_algorithms[algo_type]\n",
    "df_best_algorithms[algo_type] = show_errors_and_get_best_model(algo_type, df_algorithms)"
   ]
  },
  {
   "cell_type": "code",
   "execution_count": null,
   "id": "Y77lpjj1EQBk",
   "metadata": {
    "colab": {
     "base_uri": "https://localhost:8080/",
     "height": 1000
    },
    "executionInfo": {
     "elapsed": 3221,
     "status": "ok",
     "timestamp": 1722209790022,
     "user": {
      "displayName": "Maximiliano Burastero",
      "userId": "00370891572832178829"
     },
     "user_tz": 180
    },
    "id": "Y77lpjj1EQBk",
    "outputId": "b02cdfca-aefd-46d7-d8b6-8ea1ed1ba459"
   },
   "outputs": [],
   "source": [
    "# Optional: 163237\n",
    "for well_id in [160211, 162405]:\n",
    "  plot_predictions_comparison_notebook(well_id, df_algorithms, plot_single_models=False)"
   ]
  },
  {
   "cell_type": "code",
   "execution_count": null,
   "id": "KIe8kSuXceBw",
   "metadata": {
    "executionInfo": {
     "elapsed": 12,
     "status": "ok",
     "timestamp": 1722209790023,
     "user": {
      "displayName": "Maximiliano Burastero",
      "userId": "00370891572832178829"
     },
     "user_tz": 180
    },
    "id": "KIe8kSuXceBw"
   },
   "outputs": [],
   "source": [
    "# plot_residuals(df_algorithms)"
   ]
  },
  {
   "cell_type": "code",
   "execution_count": null,
   "id": "4HPF0epHcyBY",
   "metadata": {
    "executionInfo": {
     "elapsed": 11,
     "status": "ok",
     "timestamp": 1722209790025,
     "user": {
      "displayName": "Maximiliano Burastero",
      "userId": "00370891572832178829"
     },
     "user_tz": 180
    },
    "id": "4HPF0epHcyBY"
   },
   "outputs": [],
   "source": [
    "# plot_boxplot_errors(df_algorithms)"
   ]
  },
  {
   "cell_type": "markdown",
   "id": "q0Ay86lPELGR",
   "metadata": {
    "id": "q0Ay86lPELGR"
   },
   "source": [
    "## Resultados en LSTM"
   ]
  },
  {
   "cell_type": "code",
   "execution_count": null,
   "id": "7v6jZ609EQsW",
   "metadata": {
    "colab": {
     "base_uri": "https://localhost:8080/",
     "height": 541
    },
    "executionInfo": {
     "elapsed": 497,
     "status": "ok",
     "timestamp": 1722209790512,
     "user": {
      "displayName": "Maximiliano Burastero",
      "userId": "00370891572832178829"
     },
     "user_tz": 180
    },
    "id": "7v6jZ609EQsW",
    "outputId": "dd2dfd8e-f9f2-4af5-a8d2-12d26fe95acb"
   },
   "outputs": [],
   "source": [
    "algo_type = \"LSTM\"\n",
    "df_algorithms = dataset_algorithms[algo_type]\n",
    "df_best_algorithms[algo_type] = show_errors_and_get_best_model(algo_type, df_algorithms)"
   ]
  },
  {
   "cell_type": "code",
   "execution_count": null,
   "id": "Y_GTdA-9EQ1A",
   "metadata": {
    "colab": {
     "base_uri": "https://localhost:8080/",
     "height": 1000
    },
    "executionInfo": {
     "elapsed": 5643,
     "status": "ok",
     "timestamp": 1722209796143,
     "user": {
      "displayName": "Maximiliano Burastero",
      "userId": "00370891572832178829"
     },
     "user_tz": 180
    },
    "id": "Y_GTdA-9EQ1A",
    "outputId": "9a2ba1f9-849e-48ec-94ed-cd3ae2df8da3"
   },
   "outputs": [],
   "source": [
    "# Optional: 161451\n",
    "for well_id in [160332, 160814]:\n",
    "  plot_predictions_comparison_notebook(well_id, df_algorithms, plot_single_models=False)"
   ]
  },
  {
   "cell_type": "code",
   "execution_count": null,
   "id": "OL5CjqFFcgNJ",
   "metadata": {
    "executionInfo": {
     "elapsed": 31,
     "status": "ok",
     "timestamp": 1722209796145,
     "user": {
      "displayName": "Maximiliano Burastero",
      "userId": "00370891572832178829"
     },
     "user_tz": 180
    },
    "id": "OL5CjqFFcgNJ"
   },
   "outputs": [],
   "source": [
    "# plot_residuals(df_algorithms)"
   ]
  },
  {
   "cell_type": "code",
   "execution_count": null,
   "id": "OzDN_xgecz4_",
   "metadata": {
    "executionInfo": {
     "elapsed": 27,
     "status": "ok",
     "timestamp": 1722209796147,
     "user": {
      "displayName": "Maximiliano Burastero",
      "userId": "00370891572832178829"
     },
     "user_tz": 180
    },
    "id": "OzDN_xgecz4_"
   },
   "outputs": [],
   "source": [
    "# plot_boxplot_errors(df_algorithms, orient='h')"
   ]
  },
  {
   "cell_type": "markdown",
   "id": "cf1e9DkcRj11",
   "metadata": {
    "id": "cf1e9DkcRj11"
   },
   "source": [
    "# Comparación de los mejores resultados\n",
    "Una vez obtenidos los mejores resultados de cada modelo, se comparan entre si."
   ]
  },
  {
   "cell_type": "code",
   "execution_count": null,
   "id": "fyQkBnGIQoCz",
   "metadata": {
    "colab": {
     "base_uri": "https://localhost:8080/",
     "height": 559
    },
    "executionInfo": {
     "elapsed": 27,
     "status": "ok",
     "timestamp": 1722209796148,
     "user": {
      "displayName": "Maximiliano Burastero",
      "userId": "00370891572832178829"
     },
     "user_tz": 180
    },
    "id": "fyQkBnGIQoCz",
    "outputId": "460396f2-8a46-4533-fea1-fceddcace0bb"
   },
   "outputs": [],
   "source": [
    "best = show_errors_and_get_best_model(algo_type, df_best_algorithms)"
   ]
  },
  {
   "cell_type": "code",
   "execution_count": null,
   "id": "Dr04yDHOR9mK",
   "metadata": {
    "colab": {
     "base_uri": "https://localhost:8080/",
     "height": 1000
    },
    "executionInfo": {
     "elapsed": 14291,
     "status": "ok",
     "timestamp": 1722209810420,
     "user": {
      "displayName": "Maximiliano Burastero",
      "userId": "00370891572832178829"
     },
     "user_tz": 180
    },
    "id": "Dr04yDHOR9mK",
    "outputId": "2ba4cfb7-f14f-421b-f64a-f651b88ed5e3"
   },
   "outputs": [],
   "source": [
    "#for well_id in [160211, 160789, 160810, 160814, 161451, 162200, 162955]:\n",
    "#  plot_predictions_comparison_notebook(well_id, df_best_algorithms, plot_single_models=False)"
   ]
  },
  {
   "cell_type": "code",
   "execution_count": null,
   "id": "117e0794-bf18-4efa-9f8b-50ea59861fde",
   "metadata": {},
   "outputs": [],
   "source": [
    "#plot_residuals(df_best_algorithms)\n",
    "#plot_boxplot_errors(df_best_algorithms)\n",
    "plot_residuals_and_boxplot_errors(df_best_algorithms)"
   ]
  },
  {
   "cell_type": "code",
   "execution_count": null,
   "id": "4IK7IgYwRrgD",
   "metadata": {
    "colab": {
     "base_uri": "https://localhost:8080/"
    },
    "executionInfo": {
     "elapsed": 45,
     "status": "ok",
     "timestamp": 1722209811720,
     "user": {
      "displayName": "Maximiliano Burastero",
      "userId": "00370891572832178829"
     },
     "user_tz": 180
    },
    "id": "4IK7IgYwRrgD",
    "outputId": "a9b626c0-2f00-49c3-ce45-ac0f7f0bf162"
   },
   "outputs": [],
   "source": [
    "for algo_type in dataset_algorithms.keys():\n",
    "  print(f\"================================= Algoritmos del tipo {algo_type} =================================\")\n",
    "  for algo_name in dataset_algorithms[algo_type].keys():\n",
    "    print(f\"--------------------------------- Algoritmo {algo_name} ---------------------------------\")\n",
    "    print(get_df_predictions_by_algorithm(dataset_test, dataset_algorithms[algo_type][algo_name]))"
   ]
  }
 ],
 "metadata": {
  "colab": {
   "provenance": []
  },
  "kernelspec": {
   "display_name": "Python 3 (ipykernel)",
   "language": "python",
   "name": "python3"
  },
  "language_info": {
   "codemirror_mode": {
    "name": "ipython",
    "version": 3
   },
   "file_extension": ".py",
   "mimetype": "text/x-python",
   "name": "python",
   "nbconvert_exporter": "python",
   "pygments_lexer": "ipython3",
   "version": "3.11.2"
  }
 },
 "nbformat": 4,
 "nbformat_minor": 5
}
